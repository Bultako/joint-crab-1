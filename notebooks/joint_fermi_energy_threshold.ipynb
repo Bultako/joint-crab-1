{
 "cells": [
  {
   "cell_type": "markdown",
   "metadata": {},
   "source": [
    "# Fermi Crab Pulsar / Nebula Flux Ratio\n",
    "This notebook studies the flux ratio of the Fermi Crab Pulsar and Nebula to find a suitable energy threshold for the joint analysis. The goal is to limit the contamination by the Pulsar, but push the energy threshold as low as possible.  "
   ]
  },
  {
   "cell_type": "code",
   "execution_count": 1,
   "metadata": {
    "collapsed": true
   },
   "outputs": [],
   "source": [
    "%matplotlib inline\n",
    "import numpy as np\n",
    "import matplotlib.pyplot as plt"
   ]
  },
  {
   "cell_type": "code",
   "execution_count": 2,
   "metadata": {
    "collapsed": true
   },
   "outputs": [],
   "source": [
    "from astropy import units as u\n",
    "from astropy.visualization import quantity_support\n",
    "from gammapy.catalog import SourceCatalog3FGL"
   ]
  },
  {
   "cell_type": "code",
   "execution_count": 3,
   "metadata": {
    "collapsed": true
   },
   "outputs": [],
   "source": [
    "fermi_3fgl = SourceCatalog3FGL()"
   ]
  },
  {
   "cell_type": "code",
   "execution_count": 4,
   "metadata": {
    "collapsed": false
   },
   "outputs": [],
   "source": [
    "# Crab pulsar \n",
    "crab_pulsar = fermi_3fgl['3FGL J0534.5+2201']\n",
    "\n",
    "# The Crab Nebula has two power-law components see e.g.https://arxiv.org/abs/0911.2412\n",
    "crab_nebula_i = fermi_3fgl['3FGL J0534.5+2201i']\n",
    "crab_nebula_s = fermi_3fgl['3FGL J0534.5+2201s']\n",
    "crab_nebula_spectral_model = crab_nebula_i.spectral_model + crab_nebula_s.spectral_model"
   ]
  },
  {
   "cell_type": "code",
   "execution_count": 5,
   "metadata": {
    "collapsed": true
   },
   "outputs": [],
   "source": [
    "EMIN, EMAX = [1, 2000] * u.GeV\n",
    "\n",
    "emins = np.logspace(np.log10(EMIN.value), np.log10(EMAX.value), 30) * u.GeV\n",
    "emaxs = EMAX * np.ones(len(emins))"
   ]
  },
  {
   "cell_type": "code",
   "execution_count": 6,
   "metadata": {
    "collapsed": false
   },
   "outputs": [],
   "source": [
    "# Compute integral fluxes above various minimal energies\n",
    "flux_int_crab_pulsar = crab_pulsar.spectral_model.integral(emin=emins.to('MeV'), emax=emaxs.to('MeV'), intervals=True)\n",
    "flux_int_crab_nebula = crab_nebula_spectral_model.integral(emin=emins.to('MeV'), emax=emaxs.to('MeV'), intervals=True)\n",
    "\n",
    "# Compute integral flux ratio\n",
    "flux_int_ratio = (flux_int_crab_pulsar / flux_int_crab_nebula).to('')"
   ]
  },
  {
   "cell_type": "markdown",
   "metadata": {},
   "source": [
    "We find the energy threshold, where the contaimantion by the pulsar drops below 10%:"
   ]
  },
  {
   "cell_type": "code",
   "execution_count": 7,
   "metadata": {
    "collapsed": false
   },
   "outputs": [
    {
     "name": "stdout",
     "output_type": "stream",
     "text": [
      "30.18 GeV\n"
     ]
    }
   ],
   "source": [
    "ratio_max = 0.1\n",
    "e_thresh = emins[flux_int_ratio < ratio_max][0]\n",
    "print('{:.2f}'.format(e_thresh))"
   ]
  },
  {
   "cell_type": "markdown",
   "metadata": {},
   "source": [
    "An finally plot the flux ratio against lower energy threshold:"
   ]
  },
  {
   "cell_type": "code",
   "execution_count": 8,
   "metadata": {
    "collapsed": false
   },
   "outputs": [
    {
     "data": {
      "image/png": "[encoded data removed]",
      "text/plain": [
       "<matplotlib.figure.Figure at 0x7f9b77968f98>"
      ]
     },
     "metadata": {},
     "output_type": "display_data"
    }
   ],
   "source": [
    "with quantity_support():\n",
    "    plt.plot(emins, flux_int_ratio)\n",
    "    plt.loglog()\n",
    "    plt.xlabel('Energy Threshold (GeV)')\n",
    "    plt.ylabel('Flux Ratio Pulsar / Nebula')\n",
    "    plt.hlines(ratio_max, 0.1, 1E3) \n",
    "    plt.text(x=0.8E2, y=(1.5 * ratio_max), s='{:.0%} Flux Ratio'.format(ratio_max))\n",
    "    plt.xlim(5, 2E2)\n",
    "    plt.ylim(1E-4, 1E1)"
   ]
  },
  {
   "cell_type": "code",
   "execution_count": null,
   "metadata": {
    "collapsed": true
   },
   "outputs": [],
   "source": []
  }
 ],
 "metadata": {
  "kernelspec": {
   "display_name": "Python 3",
   "language": "python",
   "name": "python3"
  },
  "language_info": {
   "codemirror_mode": {
    "name": "ipython",
    "version": 3
   },
   "file_extension": ".py",
   "mimetype": "text/x-python",
   "name": "python",
   "nbconvert_exporter": "python",
   "pygments_lexer": "ipython3",
   "version": "3.5.4"
  }
 },
 "nbformat": 4,
 "nbformat_minor": 2
}
