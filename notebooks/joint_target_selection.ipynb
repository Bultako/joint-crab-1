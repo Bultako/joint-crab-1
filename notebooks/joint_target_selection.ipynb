{
 "cells": [
  {
   "cell_type": "markdown",
   "metadata": {},
   "source": [
    "## Target selection\n",
    "\n",
    "This is a quick check for possible targets for a joint MAGIC / HESS analysis.\n",
    "\n",
    "The Crab might not be the best choice, because even with low exposure,\n",
    "scientifically interesting measurements (namely position and extension) are possible.\n",
    "\n",
    "So to be uncontroversial, ideally we'd pick a source without an ongoing science study in HESS or MAGIC."
   ]
  },
  {
   "cell_type": "code",
   "execution_count": 1,
   "metadata": {
    "collapsed": true
   },
   "outputs": [],
   "source": [
    "%matplotlib inline\n",
    "import matplotlib.pyplot as plt"
   ]
  },
  {
   "cell_type": "code",
   "execution_count": 2,
   "metadata": {
    "collapsed": true
   },
   "outputs": [],
   "source": [
    "import numpy as np\n",
    "from gammapy.catalog import SourceCatalogGammaCat"
   ]
  },
  {
   "cell_type": "code",
   "execution_count": 3,
   "metadata": {
    "collapsed": true
   },
   "outputs": [],
   "source": [
    "cat = SourceCatalogGammaCat()\n",
    "t = cat.table"
   ]
  },
  {
   "cell_type": "code",
   "execution_count": 4,
   "metadata": {},
   "outputs": [],
   "source": [
    "mask_hess = np.array(['hess' in _ for _ in t['seen_by']])\n",
    "mask_magic = np.array(['magic' in _ for _ in t['seen_by']])\n",
    "mask_both = mask_hess & mask_magic"
   ]
  },
  {
   "cell_type": "code",
   "execution_count": 5,
   "metadata": {},
   "outputs": [
    {
     "data": {
      "text/html": [
       "&lt;Table length=13&gt;\n",
       "<table id=\"table4650985064\" class=\"table-striped table-bordered table-condensed\">\n",
       "<thead><tr><th>source_id</th><th>common_name</th><th>where</th><th>classes</th><th>ra</th><th>dec</th><th>glon</th><th>glat</th><th>spec_flux_above_1TeV_crab</th></tr></thead>\n",
       "<thead><tr><th></th><th></th><th></th><th></th><th>deg</th><th>deg</th><th>deg</th><th>deg</th><th></th></tr></thead>\n",
       "<thead><tr><th>int32</th><th>str21</th><th>str4</th><th>str11</th><th>float32</th><th>float32</th><th>float32</th><th>float32</th><th>float32</th></tr></thead>\n",
       "<tr><td>58</td><td>M 87</td><td>egal</td><td>fri</td><td>187.706</td><td>12.3911</td><td>283.778</td><td>74.4912</td><td>0.0</td></tr>\n",
       "<tr><td>59</td><td>3C 279</td><td>egal</td><td>fsrq</td><td>194.047</td><td>-5.78931</td><td>305.104</td><td>57.0624</td><td>0.0</td></tr>\n",
       "<tr><td>49</td><td>Markarian 421</td><td>egal</td><td>hbl</td><td>166.114</td><td>38.2088</td><td>179.832</td><td>65.0315</td><td>0.0</td></tr>\n",
       "<tr><td>53</td><td>1ES 1215+303</td><td>egal</td><td>hbl</td><td>184.467</td><td>30.1168</td><td>188.875</td><td>82.0529</td><td>0.0</td></tr>\n",
       "<tr><td>82</td><td>PG 1553+113</td><td>egal</td><td>hbl</td><td>238.929</td><td>11.1901</td><td>21.9089</td><td>43.9642</td><td>0.0</td></tr>\n",
       "<tr><td>147</td><td>PKS 2155-304</td><td>egal</td><td>hbl</td><td>329.717</td><td>-30.2256</td><td>17.7305</td><td>-52.2459</td><td>0.0</td></tr>\n",
       "<tr><td>30</td><td>HESS J0632+057</td><td>gal</td><td>bin</td><td>98.2469</td><td>5.80033</td><td>205.667</td><td>-1.43953</td><td>2.86714</td></tr>\n",
       "<tr><td>25</td><td>Crab nebula</td><td>gal</td><td>pwn</td><td>83.6331</td><td>22.0145</td><td>184.557</td><td>-5.78436</td><td>109.328</td></tr>\n",
       "<tr><td>116</td><td>HESS J1813-178</td><td>gal</td><td>pwn</td><td>273.363</td><td>-17.8489</td><td>12.7868</td><td>0.000434483</td><td>11.8443</td></tr>\n",
       "<tr><td>135</td><td>W 51C</td><td>gal</td><td>snr,mc</td><td>290.818</td><td>14.145</td><td>49.1158</td><td>-0.461604</td><td>2.95946</td></tr>\n",
       "<tr><td>106</td><td>Galactic Centre</td><td>gal</td><td>unid</td><td>266.417</td><td>-29.0078</td><td>359.944</td><td>-0.0461624</td><td>8.21346</td></tr>\n",
       "<tr><td>123</td><td>HESS J1834-087</td><td>gal</td><td>unid</td><td>278.716</td><td>-8.74394</td><td>23.2683</td><td>-0.329883</td><td>8.73843</td></tr>\n",
       "<tr><td>130</td><td>HESS J1857+026</td><td>gal</td><td>unid</td><td>284.296</td><td>2.66667</td><td>35.96</td><td>-0.0612988</td><td>21.155</td></tr>\n",
       "</table>"
      ],
      "text/plain": [
       "<Table length=13>\n",
       "source_id   common_name   where ...     glat    spec_flux_above_1TeV_crab\n",
       "                                ...     deg                              \n",
       "  int32        str21       str4 ...   float32            float32         \n",
       "--------- --------------- ----- ... ----------- -------------------------\n",
       "       58            M 87  egal ...     74.4912                       0.0\n",
       "       59          3C 279  egal ...     57.0624                       0.0\n",
       "       49   Markarian 421  egal ...     65.0315                       0.0\n",
       "       53    1ES 1215+303  egal ...     82.0529                       0.0\n",
       "       82     PG 1553+113  egal ...     43.9642                       0.0\n",
       "      147    PKS 2155-304  egal ...    -52.2459                       0.0\n",
       "       30  HESS J0632+057   gal ...    -1.43953                   2.86714\n",
       "       25     Crab nebula   gal ...    -5.78436                   109.328\n",
       "      116  HESS J1813-178   gal ... 0.000434483                   11.8443\n",
       "      135           W 51C   gal ...   -0.461604                   2.95946\n",
       "      106 Galactic Centre   gal ...  -0.0461624                   8.21346\n",
       "      123  HESS J1834-087   gal ...   -0.329883                   8.73843\n",
       "      130  HESS J1857+026   gal ...  -0.0612988                    21.155"
      ]
     },
     "execution_count": 5,
     "metadata": {},
     "output_type": "execute_result"
    }
   ],
   "source": [
    "t_both = t[mask_both]\n",
    "t_both.sort(['where', 'classes'])\n",
    "t_both[\n",
    "    'source_id', 'common_name', 'where', 'classes',\n",
    "    'ra', 'dec', 'glon', 'glat',\n",
    "#     'morph_type', 'morph_sigma',\n",
    "    'spec_flux_above_1TeV_crab',\n",
    "]"
   ]
  },
  {
   "cell_type": "code",
   "execution_count": null,
   "metadata": {
    "collapsed": true
   },
   "outputs": [],
   "source": []
  }
 ],
 "metadata": {
  "kernelspec": {
   "display_name": "Python 3",
   "language": "python",
   "name": "python3"
  },
  "language_info": {
   "codemirror_mode": {
    "name": "ipython",
    "version": 3
   },
   "file_extension": ".py",
   "mimetype": "text/x-python",
   "name": "python",
   "nbconvert_exporter": "python",
   "pygments_lexer": "ipython3",
   "version": "3.5.3"
  }
 },
 "nbformat": 4,
 "nbformat_minor": 2
}
