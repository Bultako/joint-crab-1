{
 "cells": [
  {
   "cell_type": "markdown",
   "metadata": {},
   "source": [
    "# Physical model for joint analyses from multiple instruments\n",
    "\n",
    "\n",
    "This notebook shows how to make **Naima** as an user defined model of Gammapy to do the physical modeling \n",
    "of the observed data. Datails on **Naima** can be found in this link: http://naima.readthedocs.io/en/latest/ \n",
    "\n",
    "        \n",
    "In this example data from three different telescopes, HESS, MAGIC, VERITAS, FACT, & FERMI-LAT is used.  In the paper the \n",
    "multi instrument data is fit with LogParabola model. Here, physical models (i.e. synchrotron, inverse \n",
    "Compton proecesses) are considered as the model to fit the data through log likelihood method. Hence, \n",
    "this fitting procedure is different from the usual SED fitting.\n",
    "\n",
    "Since, the physical processes need electron spectrum, hence the parameters of the electron distribution\n",
    "are essentially inputs to this procedure. \n",
    "\n",
    "In this example, we consider electron spectrum as a LogParabola model. One can also consider power-law \n",
    "distribution of electrons which is also provided with the package. Other spectral shapes \n",
    "can be easily developed using the prescription given in these two spectral models.\n",
    "\n",
    "\n",
    "\n",
    "****"
   ]
  },
  {
   "cell_type": "markdown",
   "metadata": {},
   "source": [
    "# Setup\n",
    "\n",
    "Some usual checks for setup "
   ]
  },
  {
   "cell_type": "code",
   "execution_count": 1,
   "metadata": {},
   "outputs": [
    {
     "name": "stderr",
     "output_type": "stream",
     "text": [
      "/photon1/users/labsaha/miniconda/envs/gammapy-dev/lib/python3.6/importlib/_bootstrap.py:205: RuntimeWarning: numpy.dtype size changed, may indicate binary incompatibility. Expected 96, got 88\n",
      "  return f(*args, **kwds)\n"
     ]
    },
    {
     "name": "stdout",
     "output_type": "stream",
     "text": [
      "gammapy: 0.8.dev7078\n"
     ]
    }
   ],
   "source": [
    "# to check if the python version 3.6 is getting imported\n",
    "# This part should be deleted in the final version\n",
    "import sys\n",
    "\n",
    "import matplotlib.pyplot as plt\n",
    "%matplotlib inline\n",
    "import gammapy\n",
    "import naima\n",
    "import numpy as np\n",
    "import astropy.units as u\n",
    "from pathlib import Path\n",
    "from astropy.table import Table\n",
    "\n",
    "from astropy.io import ascii\n",
    "from gammapy.spectrum import models\n",
    "from gammapy.utils.modeling import Parameter\n",
    "\n",
    "from gammapy.spectrum import (\n",
    "    models, SpectrumExtraction, SpectrumFit, SpectrumResult,\n",
    "    SpectrumEnergyGroupMaker, FluxPointEstimator,SpectrumObservationList,SpectrumObservation\n",
    ")\n",
    "\n",
    "sys.path.append('..')\n",
    "from joint_crab.conf import config\n",
    "from naima.models import InverseCompton, ExponentialCutoffPowerLaw\n",
    "\n",
    "# This part should also be deleted in the final version\n",
    "print('gammapy:', gammapy.__version__)"
   ]
  },
  {
   "cell_type": "markdown",
   "metadata": {},
   "source": [
    "## Naima as user defined model of Gammapy. \n",
    "\n",
    "Here Naima is used as model for SpectrumFit class of Gammapy. Here the `CrabSpectrumModel` is built\n",
    "following the prescription given in Gammapy package \n",
    "(http://docs.gammapy.org/dev/notebooks/spectrum_models.html?highlight=usermodel#User-defined-model)"
   ]
  },
  {
   "cell_type": "code",
   "execution_count": 2,
   "metadata": {},
   "outputs": [],
   "source": [
    "import naima\n",
    "import astropy.units as u\n",
    "from gammapy.utils.modeling import Parameter,Parameters\n",
    "import gammapy.spectrum.models\n",
    "import naima.models\n",
    "\n",
    "\n",
    "class CrabSpectrumModel(gammapy.spectrum.models.SpectralModel):\n",
    "    def __init__(self, alpha, amplitude,beta,reference):\n",
    "        self.parameters = Parameters([\n",
    "            Parameter('alpha', alpha),\n",
    "            Parameter('amplitude', amplitude),\n",
    "            Parameter('beta', beta),\n",
    "            Parameter('reference', reference, frozen=True)\n",
    "        ])\n",
    "\n",
    "    @staticmethod\n",
    "    def evaluate(energy, alpha, amplitude, beta, reference):\n",
    "        # Initialize instances of the particle distribution and radiative model\n",
    "        particle_distribution = naima.models.LogParabola(amplitude, reference, alpha, beta)\n",
    "        # Compute IC on CMB (for other components see the link https://naima.readthedocs.io/en/latest/)\n",
    "        # ------------------------------------------------------------------\n",
    "        ic_model = naima.models.InverseCompton(\n",
    "            particle_distribution,\n",
    "            seed_photon_fields=['CMB'],\n",
    "            Eemin=100 * u.GeV,\n",
    "        )\n",
    "       \n",
    "        # compute flux at the energies given in data['energy']\n",
    "        dnde = ic_model.flux(energy, distance=1.0 * u.kpc)\n",
    "\n",
    "        return dnde.to('cm-2 s-1 TeV-1')\n"
   ]
  },
  {
   "cell_type": "markdown",
   "metadata": {},
   "source": [
    "# Model definition\n",
    "\n",
    "In this example we consider input electron spectrum as a LogParabola type spectrum \n",
    "as model for **Naima**. In the present **Naima** model only CMB photons are considered for IC process.\n",
    "It generally takes time to get the best-fit parameters of the model if we include other components \n",
    "for IC process. "
   ]
  },
  {
   "cell_type": "code",
   "execution_count": 3,
   "metadata": {},
   "outputs": [],
   "source": [
    "# parameters of the LogParabola electron spectrum\n",
    "\n",
    "model_naima = CrabSpectrumModel(\n",
    "        alpha=2.0,\n",
    "        amplitude=1.0e+37 * u.Unit('eV-1'),\n",
    "        beta = 0.5 * u.Unit(''),\n",
    "        reference = 0.1 *u.Unit('TeV'),\n",
    "      )\n",
    "\n",
    "# In case one want to freeze on of the model parameters\n",
    "# model_naima.parameters['beta'].frozen = True\n",
    "# model_naima.parameters['alpha'].frozen = True\n",
    "\n",
    "# In case we want to see the SED before fitting\n",
    "#energy_range = [.003, 500] * u.TeV\n",
    "#fig, ax = plt.subplots(1)\n",
    "#model_naima.plot(ax=ax,energy_range=energy_range,energy_power=2)\n",
    "#plt.loglog()"
   ]
  },
  {
   "cell_type": "markdown",
   "metadata": {},
   "source": [
    "# Fit\n",
    "\n",
    "Naima model is being used as the model for likelihood fit of the FERMI-LAT, MAGIC, HESS, VERITAS, \n",
    "and FACT data.\n",
    "\n",
    "\n"
   ]
  },
  {
   "cell_type": "code",
   "execution_count": 4,
   "metadata": {
    "scrolled": true
   },
   "outputs": [
    {
     "name": "stdout",
     "output_type": "stream",
     "text": [
      "SpectrumObservationList\n",
      "Number of observations: 1\n"
     ]
    }
   ],
   "source": [
    "import warnings \n",
    "warnings.simplefilter(\"ignore\")\n",
    "\n",
    "#getting observation list available for joint-crab analysis\n",
    "#One can consider all data to do the joint fit or data from individual instruments\n",
    "\n",
    "# For all instruments together\n",
    "#dataset = config.get_dataset('joint')\n",
    "\n",
    "# For individual instruments (any one these: 'fermi','hess','magic','veritas', 'fact')\n",
    "dataset = config.get_dataset('fermi')\n",
    "\n",
    "obs_list = dataset.get_SpectrumObservationList()\n",
    "print(obs_list)"
   ]
  },
  {
   "cell_type": "code",
   "execution_count": 5,
   "metadata": {
    "scrolled": false
   },
   "outputs": [
    {
     "data": {
      "text/html": [
       "<hr>"
      ]
     },
     "metadata": {},
     "output_type": "display_data"
    },
    {
     "data": {
      "text/html": [
       "\n",
       "        <table>\n",
       "            <tr>\n",
       "                <td title=\"Minimum value of function\">FCN = 10.891409158954515</td>\n",
       "                <td title=\"Total number of call to FCN so far\">TOTAL NCALL = 780</td>\n",
       "                <td title=\"Number of call in last migrad\">NCALLS = 780</td>\n",
       "            </tr>\n",
       "            <tr>\n",
       "                <td title=\"Estimated distance to minimum\">EDM = 0.00010274107871584542</td>\n",
       "                <td title=\"Maximum EDM definition of convergence\">GOAL EDM = 1e-05</td>\n",
       "                <td title=\"Error def. Amount of increase in FCN to be defined as 1 standard deviation\">\n",
       "                UP = 1.0</td>\n",
       "            </tr>\n",
       "        </table>\n",
       "        \n",
       "        <table>\n",
       "            <tr>\n",
       "                <td align=\"center\" title=\"Validity of the migrad call\">Valid</td>\n",
       "                <td align=\"center\" title=\"Validity of parameters\">Valid Param</td>\n",
       "                <td align=\"center\" title=\"Is Covariance matrix accurate?\">Accurate Covar</td>\n",
       "                <td align=\"center\" title=\"Positive definiteness of covariance matrix\">PosDef</td>\n",
       "                <td align=\"center\" title=\"Was covariance matrix made posdef by adding diagonal element\">Made PosDef</td>\n",
       "            </tr>\n",
       "            <tr>\n",
       "                <td align=\"center\" style=\"background-color:#92CCA6\">True</td>\n",
       "                <td align=\"center\" style=\"background-color:#92CCA6\">True</td>\n",
       "                <td align=\"center\" style=\"background-color:#92CCA6\">True</td>\n",
       "                <td align=\"center\" style=\"background-color:#92CCA6\">True</td>\n",
       "                <td align=\"center\" style=\"background-color:#92CCA6\">False</td>\n",
       "            </tr>\n",
       "            <tr>\n",
       "                <td align=\"center\" title=\"Was last hesse call fail?\">Hesse Fail</td>\n",
       "                <td align=\"center\" title=\"Validity of covariance\">HasCov</td>\n",
       "                <td align=\"center\" title=\"Is EDM above goal EDM?\">Above EDM</td>\n",
       "                <td align=\"center\"></td>\n",
       "                <td align=\"center\" title=\"Did last migrad call reach max call limit?\">Reach calllim</td>\n",
       "            </tr>\n",
       "            <tr>\n",
       "                <td align=\"center\" style=\"background-color:#92CCA6\">False</td>\n",
       "                <td align=\"center\" style=\"background-color:#92CCA6\">True</td>\n",
       "                <td align=\"center\" style=\"background-color:#92CCA6\">False</td>\n",
       "                <td align=\"center\"></td>\n",
       "                <td align=\"center\" style=\"background-color:#92CCA6\">False</td>\n",
       "            </tr>\n",
       "        </table>\n",
       "        "
      ]
     },
     "metadata": {},
     "output_type": "display_data"
    },
    {
     "data": {
      "text/html": [
       "\n",
       "        <table>\n",
       "            <tr>\n",
       "                <td><a href=\"#\" onclick=\"$('#oKIFudCDZP').toggle()\">+</a></td>\n",
       "                <td title=\"Variable name\">Name</td>\n",
       "                <td title=\"Value of parameter\">Value</td>\n",
       "                <td title=\"Parabolic error\">Parab Error</td>\n",
       "                <td title=\"Minos lower error\">Minos Error-</td>\n",
       "                <td title=\"Minos upper error\">Minos Error+</td>\n",
       "                <td title=\"Lower limit of the parameter\">Limit-</td>\n",
       "                <td title=\"Upper limit of the parameter\">Limit+</td>\n",
       "                <td title=\"Is the parameter fixed in the fit\">FIXED</td>\n",
       "            </tr>\n",
       "        \n",
       "            <tr>\n",
       "                <td>1</td>\n",
       "                <td>par_000_alpha</td>\n",
       "                <td>1.24245</td>\n",
       "                <td>0.822104</td>\n",
       "                <td>0</td>\n",
       "                <td>0</td>\n",
       "                <td></td>\n",
       "                <td></td>\n",
       "                <td></td>\n",
       "            </tr>\n",
       "            \n",
       "            <tr>\n",
       "                <td>2</td>\n",
       "                <td>par_001_amplitude</td>\n",
       "                <td>3.05865</td>\n",
       "                <td>4.74335</td>\n",
       "                <td>0</td>\n",
       "                <td>0</td>\n",
       "                <td></td>\n",
       "                <td></td>\n",
       "                <td></td>\n",
       "            </tr>\n",
       "            \n",
       "            <tr>\n",
       "                <td>3</td>\n",
       "                <td>par_002_beta</td>\n",
       "                <td>0.246182</td>\n",
       "                <td>0.108249</td>\n",
       "                <td>0</td>\n",
       "                <td>0</td>\n",
       "                <td></td>\n",
       "                <td></td>\n",
       "                <td></td>\n",
       "            </tr>\n",
       "            \n",
       "            <tr>\n",
       "                <td>4</td>\n",
       "                <td>par_003_reference</td>\n",
       "                <td>1</td>\n",
       "                <td>1</td>\n",
       "                <td>0</td>\n",
       "                <td>0</td>\n",
       "                <td></td>\n",
       "                <td></td>\n",
       "                <td>FIXED</td>\n",
       "            </tr>\n",
       "            \n",
       "            </table>\n",
       "        \n",
       "            <pre id=\"oKIFudCDZP\" style=\"display:none;\">\n",
       "            <textarea rows=\"14\" cols=\"50\" onclick=\"this.select()\" readonly>\\begin{tabular}{|c|r|r|r|r|r|r|r|c|}\n",
       "\\hline\n",
       " & Name & Value & Para Error & Error+ & Error- & Limit+ & Limit- & FIXED\\\\\n",
       "\\hline\n",
       "1 & par $000_{\\alpha}$ & 1.242e+00 & 8.221e-01 &  &  &  &  & \\\\\n",
       "\\hline\n",
       "2 & par $001_{amplitude}$ & 3.059e+00 & 4.743e+00 &  &  &  &  & \\\\\n",
       "\\hline\n",
       "3 & par $002_{\\beta}$ & 2.462e-01 & 1.082e-01 &  &  &  &  & \\\\\n",
       "\\hline\n",
       "4 & par $003_{reference}$ & 1.000e+00 & 1.000e+00 &  &  &  &  & FIXED\\\\\n",
       "\\hline\n",
       "\\end{tabular}</textarea>\n",
       "            </pre>\n",
       "            "
      ]
     },
     "metadata": {},
     "output_type": "display_data"
    },
    {
     "data": {
      "text/html": [
       "<hr>"
      ]
     },
     "metadata": {},
     "output_type": "display_data"
    },
    {
     "name": "stdout",
     "output_type": "stream",
     "text": [
      "\n",
      "Fit result info \n",
      "--------------- \n",
      "Model: CrabSpectrumModel\n",
      "\n",
      "Parameters: \n",
      "\n",
      "\t   name     value     error    unit  min max\n",
      "\t--------- --------- --------- ------ --- ---\n",
      "\t    alpha 1.242e+00 8.221e-01        nan nan\n",
      "\tamplitude 3.059e+37 4.743e+37 1 / eV nan nan\n",
      "\t     beta 2.462e-01 1.082e-01        nan nan\n",
      "\treference 1.000e-01 0.000e+00    TeV nan nan\n",
      "\n",
      "Covariance: \n",
      "\n",
      "\t   name           alpha          ...          beta         reference\n",
      "\t--------- ---------------------- ... --------------------- ---------\n",
      "\t    alpha     0.6758548543744473 ...  -0.08816883283406794       0.0\n",
      "\tamplitude 3.8674565000220565e+37 ... -4.95800904367026e+36       0.0\n",
      "\t     beta   -0.08816883283406794 ...  0.011717795728983085       0.0\n",
      "\treference                    0.0 ...                   0.0       0.0 \n",
      "\n",
      "Statistic: 10.891 (wstat)\n",
      "Fit Range: [3.e+07 2.e+09] keV\n",
      "\n"
     ]
    }
   ],
   "source": [
    "# Energy range used for the fit\n",
    "energy_range = dataset.energy_range\n",
    "\n",
    "# Copy original model to model_fit (after fitting the model_fit will be overwrtiiten to the fitted model)\n",
    "model = model_naima.copy()\n",
    "\n",
    "# fit the data\n",
    "fit = SpectrumFit(obs_list=obs_list, model = model, fit_range=energy_range, method='iminuit')\n",
    "#fit.fit()\n",
    "fit.fit(opts_minuit={'print_level': 2})\n",
    "fit.est_errors()\n",
    "\n",
    "# Print the best-fit parameters\n",
    "print(fit.result[0])\n",
    "# copy the best-fit model to a new object 'model_fit'\n",
    "model_fit = model.copy()"
   ]
  },
  {
   "cell_type": "code",
   "execution_count": 6,
   "metadata": {
    "scrolled": true
   },
   "outputs": [
    {
     "data": {
      "image/png": "[encoded data removed]",
      "text/plain": [
       "<matplotlib.figure.Figure at 0x7f2038c74eb8>"
      ]
     },
     "metadata": {},
     "output_type": "display_data"
    }
   ],
   "source": [
    "#TODO: To fix the likelihood contour plots\n",
    "\n",
    "like_points = 80\n",
    "sigma = 1.0\n",
    "minuit=fit._iminuit_fit\n",
    "x, y, z = minuit.contour('par_000_alpha', 'par_001_amplitude')\n",
    "cs = plt.contour(x,y,z)\n",
    "plt.clabel(cs);"
   ]
  },
  {
   "cell_type": "markdown",
   "metadata": {},
   "source": [
    "## Plot the fitted Naima model (photon) spectrum and Logparabola fits to the data \n",
    "\n",
    "The details about the logparabola fit to all data is explained in the paper.\n",
    "Together with the logparabola fit to the data, we show here the photon spectrum obtained \n",
    "using photon emission models."
   ]
  },
  {
   "cell_type": "code",
   "execution_count": 7,
   "metadata": {
    "scrolled": false
   },
   "outputs": [
    {
     "data": {
      "image/png": "[encoded data removed]",
      "text/plain": [
       "<matplotlib.figure.Figure at 0x7f20387f9e10>"
      ]
     },
     "metadata": {},
     "output_type": "display_data"
    }
   ],
   "source": [
    "from gammapy.spectrum import CrabSpectrum\n",
    "from joint_crab.utils import load_yaml\n",
    "fig, ax = plt.subplots(figsize=(12,10))\n",
    "    \n",
    "# To plot a reference Crab nebula emission model spectrum from the literature\n",
    "model_meyer_ref = CrabSpectrum('meyer').model\n",
    "model_meyer_ref.plot([10 * u.GeV, 100 * u.TeV], energy_power=2, flux_unit='erg-1 cm-2 s-1',\n",
    "                         ls=':', lw=2, color='dimgray', label='Meyer et al. (2010)')\n",
    "\n",
    "\n",
    "path = config.repo_path / f'results/fit/gammapy/joint/fit_results_logparabola.yaml'\n",
    "results = load_yaml(path)\n",
    "parameters = results['parameters']\n",
    "model_lp = models.LogParabola.from_log10(\n",
    "           amplitude=parameters[0]['value'] * u.Unit(parameters[0]['unit']),\n",
    "            reference=parameters[1]['value'] * u.Unit(parameters[1]['unit']),\n",
    "            alpha=parameters[2]['value'] * u.Unit(parameters[2]['unit']),\n",
    "            beta=parameters[3]['value'] * u.Unit(parameters[3]['unit'])\n",
    "        )\n",
    " \n",
    "# energy range for the plot\n",
    "        \n",
    "dataset = config.get_dataset('joint')\n",
    "energy_range = dataset.energy_range\n",
    "\n",
    "model_lp.plot(energy_range, energy_power=2, flux_unit='erg-1 cm-2 s-1',\n",
    "                          ls='--', lw=3, color='crimson', label='joint fit')\n",
    "\n",
    "\n",
    "# read the butterfly from the multivariate sampling results\n",
    "table_path = Path(f'{config.repo_path}/results/figures/stat_err/joint_flux_errorband.dat')\n",
    "\n",
    "# To read reading butterfly values from {table_path}\n",
    "t = Table.read(table_path, format='ascii.ecsv')\n",
    "energies = t['energies'].data * t['energies'].unit\n",
    "flux_lo = t['flux_lo'].data * t['flux_lo'].unit\n",
    "flux_hi = t['flux_hi'].data * t['flux_hi'].unit\n",
    "        \n",
    "\n",
    "plt.fill_between(\n",
    "            energies.to('TeV'),\n",
    "            (energies ** 2 * flux_lo).to('erg cm-2 s-1'),\n",
    "            (energies ** 2 * flux_hi).to('erg cm-2 s-1'),\n",
    "            color='crimson',\n",
    "            alpha=0.38,\n",
    "            label=''\n",
    "        )\n",
    "\n",
    "# In case a different energy range is asked\n",
    "#energy_range = [0.02, 40] * u.TeV\n",
    "\n",
    "# The best-fit photon spectrum\n",
    "model_fit.plot(energy_power=2,energy_range=energy_range,lw=3,color='black',\n",
    "                     flux_unit='erg-1 cm-2 s-1',label='Naima with LP el. spec.')\n",
    "\n",
    "# This is to plot the orginal model (i.e. photon spectrum before the fit)\n",
    "#model_naima.plot(energy_power=2,energy_range=energy_range,lw=3,color='black',\n",
    "#                     flux_unit='erg-1 cm-2 s-1',label='Naima with LP el. spec.')\n",
    "\n",
    "ax.set_ylim([5e-13, 3e-10])\n",
    "ax.set_xlabel(r'$E (\\mathrm{TeV})$',fontsize=20)\n",
    "ax.set_ylabel(r'$ E^2 \\cdot dF/dE (\\mathrm{erg}  \\mathrm{cm}^{-2} \\mathrm{s}^{-1})$',fontsize=20)\n",
    "ax.tick_params(labelsize=15)\n",
    "fig.legend(bbox_to_anchor=(0.65, 0.83),loc=2,fontsize=12)\n",
    "plt.show()"
   ]
  },
  {
   "cell_type": "code",
   "execution_count": null,
   "metadata": {},
   "outputs": [],
   "source": []
  }
 ],
 "metadata": {
  "kernelspec": {
   "display_name": "Python 3",
   "language": "python",
   "name": "python3"
  },
  "language_info": {
   "codemirror_mode": {
    "name": "ipython",
    "version": 3
   },
   "file_extension": ".py",
   "mimetype": "text/x-python",
   "name": "python",
   "nbconvert_exporter": "python",
   "pygments_lexer": "ipython3",
   "version": "3.6.0"
  }
 },
 "nbformat": 4,
 "nbformat_minor": 2
}
